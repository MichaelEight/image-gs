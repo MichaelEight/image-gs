{
 "cells": [
  {
   "cell_type": "markdown",
   "metadata": {},
   "source": [
    "# Image-GS Quick Start\n",
    "\n",
    "Minimal setup for training 2D Gaussian Splatting models.\n",
    "\n",
    "## Setup Instructions\n",
    "\n",
    "1. **Clone the repository** (in terminal):\n",
    "   ```bash\n",
    "   git clone https://github.com/MichaelEight/image-gs\n",
    "   cd image-gs\n",
    "   ```\n",
    "\n",
    "2. **Open this notebook** in Jupyter\n",
    "\n",
    "3. **Add your images** to the `input/` directory\n",
    "\n",
    "4. **Run the cells below** to train your models\n",
    "\n",
    "## Directory Structure\n",
    "```\n",
    "image-gs/\n",
    "├── quick-start.ipynb  (this notebook)\n",
    "├── input/            (your images)\n",
    "│   ├── cat.png\n",
    "│   └── dog.png\n",
    "├── output/           (results)\n",
    "│   ├── session_1/    (first training run)\n",
    "│   │   ├── cat-1000-2000/\n",
    "│   │   └── dog-1000-2000/\n",
    "│   └── session_2/    (second training run)\n",
    "│       └── ...\n",
    "└── ...\n",
    "```"
   ]
  },
  {
   "cell_type": "markdown",
   "metadata": {},
   "source": [
    "## Step 0: Bootstrap (Install Basic Dependencies)\n",
    "\n",
    "Install packages needed by the quick_start module before we can import it."
   ]
  },
  {
   "cell_type": "code",
   "execution_count": null,
   "metadata": {},
   "outputs": [],
   "source": [
    "import sys\n",
    "import subprocess\n",
    "\n",
    "print(\"Installing quick_start dependencies...\")\n",
    "\n",
    "packages = [\n",
    "    \"numpy\",\n",
    "    \"pandas\",\n",
    "    \"matplotlib\",\n",
    "    \"pillow\",  # PIL\n",
    "]\n",
    "\n",
    "for pkg in packages:\n",
    "    subprocess.run([sys.executable, \"-m\", \"pip\", \"install\", pkg, \"-q\"],\n",
    "                   capture_output=True)\n",
    "\n",
    "print(\"✓ Quick start dependencies installed\")"
   ]
  },
  {
   "cell_type": "markdown",
   "metadata": {},
   "source": [
    "## Step 1: Setup\n",
    "\n",
    "Install all dependencies and verify installation.\n",
    "\n",
    "**Note:** This step takes 5-10 minutes. Run once per environment."
   ]
  },
  {
   "cell_type": "code",
   "execution_count": null,
   "metadata": {},
   "outputs": [],
   "source": [
    "from quick_start import setup\n",
    "\n",
    "setup()"
   ]
  },
  {
   "cell_type": "markdown",
   "metadata": {},
   "source": [
    "## Step 2: Verify Setup (Optional)\n",
    "\n",
    "Verify installation without reinstalling."
   ]
  },
  {
   "cell_type": "code",
   "execution_count": null,
   "metadata": {},
   "outputs": [],
   "source": [
    "from quick_start import verify_setup\n",
    "\n",
    "verify_setup()"
   ]
  },
  {
   "cell_type": "markdown",
   "metadata": {},
   "source": [
    "## Step 3: Configuration\n",
    "\n",
    "Configure training parameters.\n",
    "\n",
    "### Parameters:\n",
    "- **input_filenames**: Single filename or list (e.g., `\"cat.png\"` or `[\"cat.png\", \"dog.png\"]`)\n",
    "- **gaussians**: List of Gaussian counts (e.g., `[1000, 5000]`)\n",
    "- **steps**: List of training steps (e.g., `[2000, 3500]`)\n",
    "- **use_progressive**: Enable progressive optimization (recommended: `True`)\n",
    "- **init_gaussian_file**: Path to initial checkpoint (optional, e.g., `\"output/session_1/cat-5000-3500/model.pt\"`)\n",
    "- **allow_partial**: Allow partial initialization (optional)\n",
    "\n",
    "### Multi-Image & Batch Training:\n",
    "All combinations of `images × gaussians × steps` will be trained.\n",
    "\n",
    "**Example:** `input_filenames=[\"a.png\", \"b.png\"]`, `gaussians=[1000, 5000]`, `steps=[2000]`\n",
    "- Trains **4 models**: a-1000-2000, a-5000-2000, b-1000-2000, b-5000-2000\n",
    "- Results saved in `output/session_N/`"
   ]
  },
  {
   "cell_type": "code",
   "execution_count": null,
   "metadata": {},
   "outputs": [],
   "source": [
    "from quick_start import set_config\n",
    "\n",
    "config = set_config(\n",
    "    input_filenames=\"cat.png\",  # or [\"cat.png\", \"dog.png\"] for multiple\n",
    "    gaussians=[1000],\n",
    "    steps=[2000],\n",
    "    use_progressive=False,\n",
    "    init_gaussian_file=None,  # or \"output/session_1/cat-5000-3500/model.pt\"\n",
    "    allow_partial=False\n",
    ")\n",
    "\n",
    "print(f\"Configuration:\")\n",
    "print(f\"  Images: {config.input_filenames}\")\n",
    "print(f\"  Gaussians: {config.gaussians}\")\n",
    "print(f\"  Steps: {config.steps}\")\n",
    "print(f\"  Total runs: {len(config.input_filenames) * len(config.gaussians) * len(config.steps)}\")"
   ]
  },
  {
   "cell_type": "markdown",
   "metadata": {},
   "source": [
    "## Step 4: Training\n",
    "\n",
    "Train models and save results to a new session folder.\n",
    "\n",
    "**Time estimate:** ~2-5 minutes per 1000 steps."
   ]
  },
  {
   "cell_type": "code",
   "execution_count": null,
   "metadata": {},
   "outputs": [],
   "source": [
    "from quick_start import train\n",
    "\n",
    "results = train(config)\n",
    "\n",
    "print(f\"\\n✅ Training complete!\")\n",
    "print(f\"Results: {results}\")"
   ]
  },
  {
   "cell_type": "markdown",
   "metadata": {},
   "source": [
    "## Step 5: View Results\n",
    "\n",
    "Visualize and analyze training results.\n",
    "\n",
    "Creates:\n",
    "- Visual comparison (3 or 4 panel)\n",
    "- Detailed summary text\n",
    "- Saves to `output/session_N/<folder>/summary.png` and `summary.txt`"
   ]
  },
  {
   "cell_type": "code",
   "execution_count": null,
   "metadata": {},
   "outputs": [],
   "source": [
    "from quick_start import view_results\n",
    "\n",
    "# View first result\n",
    "view_results(results[0])\n",
    "\n",
    "# Or view all results\n",
    "# for folder in results:\n",
    "#     view_results(folder)"
   ]
  },
  {
   "cell_type": "markdown",
   "metadata": {},
   "source": [
    "## Step 6: Compare Batch Results (Optional)\n",
    "\n",
    "Compare metrics across multiple training runs."
   ]
  },
  {
   "cell_type": "code",
   "execution_count": null,
   "metadata": {},
   "outputs": [],
   "source": [
    "from quick_start import compare_batch_results\n",
    "\n",
    "comparison = compare_batch_results(results)"
   ]
  },
  {
   "cell_type": "markdown",
   "metadata": {},
   "source": [
    "## Step 7: Plot Training Metrics (Optional)\n",
    "\n",
    "Plot detailed training metrics showing loss, quality, and size evolution."
   ]
  },
  {
   "cell_type": "code",
   "execution_count": null,
   "metadata": {},
   "outputs": [],
   "source": [
    "from quick_start import plot_metrics\n",
    "\n",
    "# Plot first result\n",
    "plot_metrics(results[0])\n",
    "\n",
    "# Or plot all results\n",
    "# for folder in results:\n",
    "#     plot_metrics(folder)"
   ]
  }
 ],
 "metadata": {
  "kernelspec": {
   "display_name": "Python 3",
   "language": "python",
   "name": "python3"
  },
  "language_info": {
   "codemirror_mode": {
    "name": "ipython",
    "version": 3
   },
   "file_extension": ".py",
   "mimetype": "text/x-python",
   "name": "python",
   "nbconvert_exporter": "python",
   "pygments_lexer": "ipython3",
   "version": "3.10.0"
  }
 },
 "nbformat": 4,
 "nbformat_minor": 4
}
