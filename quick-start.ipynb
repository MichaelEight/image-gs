{
 "cells": [
  {
   "cell_type": "markdown",
   "metadata": {},
   "source": [
    "# Image-GS Quick Start\n",
    "\n",
    "Minimal setup for training 2D Gaussian Splatting models.\n",
    "\n",
    "## Usage\n",
    "1. Run setup cells to install dependencies\n",
    "2. Place images in `/workspace/input/`\n",
    "3. Configure and train!\n",
    "\n",
    "## Workspace Structure\n",
    "```\n",
    "/workspace/\n",
    "├── quick-start.ipynb  (this notebook)\n",
    "├── input/            (your images)\n",
    "├── output/           (results)\n",
    "└── image-gs/         (repository)\n",
    "```"
   ]
  },
  {
   "cell_type": "markdown",
   "metadata": {},
   "source": [
    "## Step 1: Setup\n",
    "\n",
    "Install all dependencies and verify installation.\n",
    "\n",
    "**Note:** This step takes 5-10 minutes. Run once per environment."
   ]
  },
  {
   "cell_type": "code",
   "execution_count": null,
   "metadata": {},
   "outputs": [],
   "source": [
    "from quick_start import setup\n",
    "\n",
    "setup()"
   ]
  },
  {
   "cell_type": "markdown",
   "metadata": {},
   "source": [
    "## Step 2: Verify Setup (Optional)\n",
    "\n",
    "Verify installation without reinstalling."
   ]
  },
  {
   "cell_type": "code",
   "execution_count": null,
   "metadata": {},
   "outputs": [],
   "source": [
    "from quick_start import verify_setup\n",
    "\n",
    "verify_setup()"
   ]
  },
  {
   "cell_type": "markdown",
   "metadata": {},
   "source": [
    "## Step 3: Configuration\n",
    "\n",
    "Configure training parameters.\n",
    "\n",
    "### Parameters:\n",
    "- **input_filename**: Name of input image (from `input/` directory)\n",
    "- **gaussians**: List of Gaussian counts to train (e.g., `[5000, 10000]`)\n",
    "- **steps**: List of training step counts (e.g., `[3500, 5000]`)\n",
    "- **use_progressive**: Enable progressive optimization (recommended: `True`)\n",
    "- **init_gaussian_file**: Path to initial checkpoint relative to workspace (optional)\n",
    "- **allow_partial**: Allow partial initialization if counts don't match (optional)\n",
    "\n",
    "**Batch Training:** Multiple values in `gaussians` or `steps` will train all combinations."
   ]
  },
  {
   "cell_type": "code",
   "execution_count": null,
   "metadata": {},
   "outputs": [],
   "source": [
    "from quick_start import set_config\n",
    "\n",
    "config = set_config(\n",
    "    input_filename=\"cat.png\",\n",
    "    gaussians=[5000],\n",
    "    steps=[3500],\n",
    "    use_progressive=True,\n",
    "    init_gaussian_file=None,  # Optional: \"output/prev-run/model.pt\"\n",
    "    allow_partial=False\n",
    ")\n",
    "\n",
    "print(f\"Configuration:\")\n",
    "print(f\"  Input: {config.input_filename}\")\n",
    "print(f\"  Gaussians: {config.gaussians}\")\n",
    "print(f\"  Steps: {config.steps}\")\n",
    "print(f\"  Total runs: {len(config.gaussians) * len(config.steps)}\")"
   ]
  },
  {
   "cell_type": "markdown",
   "metadata": {},
   "source": [
    "## Step 4: Training\n",
    "\n",
    "Train models and save results.\n",
    "\n",
    "**Time estimate:** ~2-5 minutes per 1000 steps."
   ]
  },
  {
   "cell_type": "code",
   "execution_count": null,
   "metadata": {},
   "outputs": [],
   "source": [
    "from quick_start import train\n",
    "\n",
    "results = train(config)"
   ]
  },
  {
   "cell_type": "markdown",
   "metadata": {},
   "source": [
    "## Step 5: View Results\n",
    "\n",
    "Visualize and analyze training results.\n",
    "\n",
    "Creates:\n",
    "- Visual comparison (3 or 4 panel)\n",
    "- Detailed summary text\n",
    "- Saves to `output/<folder>/summary.png` and `summary.txt`"
   ]
  },
  {
   "cell_type": "code",
   "execution_count": null,
   "metadata": {},
   "outputs": [],
   "source": [
    "from quick_start import view_results\n",
    "\n",
    "# View first result\n",
    "view_results(results[0])\n",
    "\n",
    "# Or view all results\n",
    "# for folder in results:\n",
    "#     view_results(folder)"
   ]
  },
  {
   "cell_type": "markdown",
   "metadata": {},
   "source": [
    "## Step 6: Compare Batch Results (Optional)\n",
    "\n",
    "Compare metrics across multiple training runs."
   ]
  },
  {
   "cell_type": "code",
   "execution_count": null,
   "metadata": {},
   "outputs": [],
   "source": [
    "from quick_start import compare_batch_results\n",
    "\n",
    "comparison = compare_batch_results(results)"
   ]
  },
  {
   "cell_type": "markdown",
   "metadata": {},
   "source": [
    "## Step 7: Plot Training Metrics (Optional)\n",
    "\n",
    "Plot detailed training metrics showing loss, quality, and size evolution."
   ]
  },
  {
   "cell_type": "code",
   "execution_count": null,
   "metadata": {},
   "outputs": [],
   "source": [
    "from quick_start import plot_metrics\n",
    "\n",
    "# Plot first result\n",
    "plot_metrics(results[0])\n",
    "\n",
    "# Or plot all results\n",
    "# for folder in results:\n",
    "#     plot_metrics(folder)"
   ]
  }
 ],
 "metadata": {
  "kernelspec": {
   "display_name": "Python 3",
   "language": "python",
   "name": "python3"
  },
  "language_info": {
   "codemirror_mode": {
    "name": "ipython",
    "version": 3
   },
   "file_extension": ".py",
   "mimetype": "text/x-python",
   "name": "python",
   "nbconvert_exporter": "python",
   "pygments_lexer": "ipython3",
   "version": "3.10.0"
  }
 },
 "nbformat": 4,
 "nbformat_minor": 4
}
